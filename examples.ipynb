{
 "cells": [
  {
   "cell_type": "markdown",
   "id": "4b7dcf7a",
   "metadata": {},
   "source": [
    "# 1. Сетка\n",
    "(подпакет mesh)"
   ]
  },
  {
   "cell_type": "markdown",
   "id": "33184664",
   "metadata": {},
   "source": [
    "### 1.1 Чтение сетки:\n",
    "(подпакет reader)"
   ]
  },
  {
   "cell_type": "code",
   "execution_count": null,
   "id": "2288479c",
   "metadata": {},
   "outputs": [],
   "source": [
    "from FEM.mesh.reader import KFileReader"
   ]
  },
  {
   "cell_type": "code",
   "execution_count": null,
   "id": "ed5a8799",
   "metadata": {},
   "outputs": [],
   "source": [
    "reader = KFileReader()\n",
    "\n",
    "reader.readstream(open('doc/meshes/mini_test.k'))\n",
    "result = reader.pop()\n",
    "\n",
    "result"
   ]
  },
  {
   "cell_type": "markdown",
   "id": "d24ac251",
   "metadata": {},
   "source": [
    "### 1.2 Визуализация сетки:\n",
    "(подпакет mesh и mesh.plot)"
   ]
  },
  {
   "cell_type": "code",
   "execution_count": null,
   "id": "6a7d3165",
   "metadata": {},
   "outputs": [],
   "source": [
    "import matplotlib.pyplot as plt\n",
    "\n",
    "from FEM.mesh import MeshClass, meshFrom"
   ]
  },
  {
   "cell_type": "code",
   "execution_count": null,
   "id": "201a0e54",
   "metadata": {},
   "outputs": [],
   "source": [
    "mesh = meshFrom(name='doc/meshes/test.k')\n",
    "\n",
    "\n",
    "plt.figure(figsize=(8, 8))\n",
    "\n",
    "plt.gca().set_aspect('equal')\n",
    "plt.title('Mesh visualization test')\n",
    "mesh.visualizeWithSpecials([0, 1, 2], \n",
    "                           color=[[0.4, 0.4, 0.4, 1.0], \"#A8A8A8\"], spcolor=['g'],\n",
    "                           hatch='.', sphatch='O', ls='-', lw=2.0, alpha=0.8)"
   ]
  },
  {
   "cell_type": "markdown",
   "id": "97d8007f",
   "metadata": {},
   "source": [
    "### 1.3 Алгоритмы поиска:\n",
    "(подпакет mesh и mesh.search)"
   ]
  },
  {
   "cell_type": "code",
   "execution_count": null,
   "id": "d9e8c1f2",
   "metadata": {},
   "outputs": [],
   "source": [
    "import numpy as np\n",
    "import matplotlib.pyplot as plt\n",
    "\n",
    "from FEM.mesh import MeshClass, meshFrom\n",
    "from FEM.mesh.search import StepsMeshSearch"
   ]
  },
  {
   "cell_type": "code",
   "execution_count": null,
   "id": "5d00e675",
   "metadata": {},
   "outputs": [],
   "source": [
    "def checkStepsMethodFor(mesh, a, b):\n",
    "    searcher = StepsMeshSearch(mesh)\n",
    "    searcher.setArea(a)\n",
    "    indx = searcher.search(b)\n",
    "    \n",
    "    plt.gca().set_aspect('equal')\n",
    "    plt.title('Steps search test')\n",
    "    \n",
    "    plt.plot(*a, 'bo', markersize=8);\n",
    "    plt.plot(*b, 'ro', markersize=8);\n",
    "    mesh.visualizeWithSpecials(searcher.getPath())\n",
    "    if indx != -1:\n",
    "        mesh.visualizeSpecials([indx], color='b')"
   ]
  },
  {
   "cell_type": "code",
   "execution_count": null,
   "id": "f9ec1547",
   "metadata": {},
   "outputs": [],
   "source": [
    "mesh = meshFrom(name=\"doc/meshes/test.k\")\n",
    "\n",
    "\n",
    "plt.figure(figsize=(16, 16))\n",
    "\n",
    "plt.subplot(331)\n",
    "checkStepsMethodFor(mesh, np.array([-0.95, 0.95]), np.array([-0.95, -0.95]))\n",
    "\n",
    "plt.subplot(332)\n",
    "checkStepsMethodFor(mesh, np.array([-0.95, 0.95]), np.array([0.2, -0.95]))\n",
    "\n",
    "plt.subplot(333)\n",
    "checkStepsMethodFor(mesh, np.array([-0.95, 0.95]), np.array([0.5, -0.95]))\n",
    "\n",
    "plt.subplot(334)\n",
    "checkStepsMethodFor(mesh, np.array([0.95, 0.95]), np.array([-0.95, -0.95]))\n",
    "\n",
    "plt.subplot(335)\n",
    "checkStepsMethodFor(mesh, np.array([0.95, 0.95]), np.array([0.2, -0.95]))\n",
    "\n",
    "plt.subplot(336)\n",
    "checkStepsMethodFor(mesh, np.array([-0.95, -0.95]), np.array([0.2, 0.95]))\n",
    "\n",
    "plt.subplot(337)\n",
    "checkStepsMethodFor(mesh, np.array([-0.95, -0.95]), np.array([0.0, 0.0]))\n",
    "\n",
    "plt.subplot(338)\n",
    "checkStepsMethodFor(mesh, np.array([0.95, 0.95]), np.array([-1.1, 0.5]))\n",
    "\n",
    "plt.subplot(339)\n",
    "checkStepsMethodFor(mesh, np.array([-0.95, -0.95]), mesh.centers[10])"
   ]
  },
  {
   "cell_type": "markdown",
   "id": "b8950178",
   "metadata": {},
   "source": [
    "# 2. Интерполяция"
   ]
  },
  {
   "cell_type": "code",
   "execution_count": null,
   "id": "bc491bec",
   "metadata": {},
   "outputs": [],
   "source": [
    "import numpy as np\n",
    "\n",
    "from FEM.mesh import MeshClass, meshFrom\n",
    "from FEM.interpolation import CentersInterpolator, StraightInterpolator\n",
    "\n",
    "from visualization import visualizeCellsValues, visualizeNodesValues"
   ]
  },
  {
   "cell_type": "code",
   "execution_count": null,
   "id": "bda94798",
   "metadata": {},
   "outputs": [],
   "source": [
    "def getErr(a, b):\n",
    "    \"\"\"\n",
    "    Абсолютная погрешность\n",
    "    \"\"\"\n",
    "    \n",
    "    return np.abs(a - b)\n",
    "\n",
    "def getRelativeErr(a, b, eps=1e-100, limit=1.0):\n",
    "    \"\"\"\n",
    "    Относительная погрешность\n",
    "    \"\"\"\n",
    "    \n",
    "    return np.minimum(2*np.abs(a - b)/(np.abs(a) + np.abs(b) + eps), limit)"
   ]
  },
  {
   "cell_type": "code",
   "execution_count": null,
   "id": "f1844001",
   "metadata": {},
   "outputs": [],
   "source": [
    "# Шаблоны функций для теста:\n",
    "linearFunc        = lambda x, c: x@c[:2] + c[2]\n",
    "trigonometricFunc = lambda x, a, b, c: linearFunc(np.array(\n",
    "    [np.sin(linearFunc(x, a)), \n",
    "     np.cos(linearFunc(x, b))]\n",
    ").T, c)"
   ]
  },
  {
   "cell_type": "code",
   "execution_count": null,
   "id": "338db9a4",
   "metadata": {},
   "outputs": [],
   "source": [
    "# Функции для теста:\n",
    "linearTestFunc1 = lambda x: linearFunc(x, np.array([10.0, 10.0, 1.0]))\n",
    "linearTestFunc2 = lambda x: linearFunc(x, np.array([1.1, -4.2, 70.6]))\n",
    "trigonTestFunc1 = lambda x: trigonometricFunc(x, np.array([1.0, 0.0, 0.0]), \n",
    "                                                 np.array([0.0, 1.0, 0.0]), \n",
    "                                                 np.array([4.0, -2.0, 10.0]))\n",
    "trigonTestFunc2 = lambda x: trigonometricFunc(x, np.array([1.1, -4.2, 0.15]), \n",
    "                                                 np.array([-2.6, -0.8, 0.74]), \n",
    "                                                 np.array([6.3, 5.3, -30.8]))"
   ]
  },
  {
   "cell_type": "code",
   "execution_count": null,
   "id": "f2a10efc",
   "metadata": {},
   "outputs": [],
   "source": [
    "def visualizeInterpolErr(func, \n",
    "                         mesh=None, interpolator=None, file=\"meshes/test.k\", \n",
    "                         **kwargs):\n",
    "    \"\"\"\n",
    "    Интерполяция функции func через класс CentersInterpolator на сетке mesh\n",
    "    и визуализация ошибки интерполяции на центрах элементов сетки\n",
    "    \"\"\"\n",
    "    \n",
    "    if mesh is None:\n",
    "        mesh = meshFrom(name=file)\n",
    "        \n",
    "    if interpolator is None:\n",
    "        interpolator = CentersInterpolator(mesh)\n",
    "    \n",
    "    visualizeCellsValues(mesh, getRelativeErr(func(mesh.centers), interpolator.apply(func(mesh.nodes))), **kwargs)"
   ]
  },
  {
   "cell_type": "code",
   "execution_count": null,
   "id": "7f83eef3",
   "metadata": {},
   "outputs": [],
   "source": [
    "mesh = meshFrom(name=\"doc/meshes/test.k\")\n",
    "interpolator = CentersInterpolator(mesh)\n",
    "\n",
    "\n",
    "plt.figure(figsize=(16, 8))\n",
    "plt.suptitle(\"Interpolation test for linear functions\", fontsize=20, y=0.88)\n",
    "\n",
    "plt.subplot(121)\n",
    "plt.title(\"test function 1\")\n",
    "visualizeInterpolErr(linearTestFunc1, mesh, interpolator, bar_shrink=0.7)\n",
    "\n",
    "plt.subplot(122)\n",
    "plt.title(\"test function 2\")\n",
    "visualizeInterpolErr(linearTestFunc2, mesh, interpolator, bar_shrink=0.7)\n",
    "\n",
    "\n",
    "plt.figure(figsize=(16, 8))\n",
    "plt.suptitle(\"Interpolation test for trigonometric functions\", fontsize=20, y=0.88)\n",
    "\n",
    "plt.subplot(121)\n",
    "plt.title(\"test function 1\")\n",
    "visualizeInterpolErr(trigonTestFunc1, mesh, interpolator, bar_shrink=0.7)\n",
    "\n",
    "plt.subplot(122)\n",
    "plt.title(\"test function 2\")\n",
    "visualizeInterpolErr(trigonTestFunc2, mesh, interpolator, bar_shrink=0.7)"
   ]
  },
  {
   "cell_type": "code",
   "execution_count": null,
   "id": "7366c5eb",
   "metadata": {},
   "outputs": [],
   "source": [
    "plt.figure(figsize=(15, 8))\n",
    "plt.suptitle(\"Interpolation test for trigonometric function on different meshes\", fontsize=16)\n",
    "\n",
    "plt.subplot(231)\n",
    "plt.title('mesh (0)')\n",
    "visualizeInterpolErr(trigonTestFunc1, file=\"doc/meshes/test_0.k\", bar_shrink=1.0)\n",
    "\n",
    "plt.subplot(232)\n",
    "plt.title('mesh (1)')\n",
    "visualizeInterpolErr(trigonTestFunc1, file=\"doc/meshes/test_1.k\", bar_shrink=1.0)\n",
    "\n",
    "plt.subplot(233)\n",
    "plt.title('mesh (2)')\n",
    "visualizeInterpolErr(trigonTestFunc1, file=\"doc/meshes/test_2.k\", bar_shrink=1.0)\n",
    "\n",
    "plt.subplot(234)\n",
    "plt.title('mesh (3)')\n",
    "visualizeInterpolErr(trigonTestFunc1, file=\"doc/meshes/test_3.k\", bar_shrink=1.0)\n",
    "\n",
    "plt.subplot(235)\n",
    "plt.title('mesh (4)')\n",
    "visualizeInterpolErr(trigonTestFunc1, file=\"doc/meshes/test_4.k\", bar_shrink=1.0)\n",
    "\n",
    "plt.subplot(236)\n",
    "plt.title('mesh (5)')\n",
    "visualizeInterpolErr(trigonTestFunc1, file=\"doc/meshes/test_5.k\", bar_shrink=1.0)"
   ]
  },
  {
   "cell_type": "code",
   "execution_count": null,
   "id": "202def06",
   "metadata": {},
   "outputs": [],
   "source": [
    "def interpolListTest(func, points,\n",
    "                     mesh=None, interpolator=None, file=\"meshes/test.k\"): \n",
    "    \"\"\"\n",
    "    Интерполяция функции func через класс StraightInterpolator на сетке mesh\n",
    "    и визуализация ошибки интерполяции на точках points\n",
    "    \"\"\"\n",
    "    \n",
    "    if mesh is None:\n",
    "        mesh = MeshClass(open(file))\n",
    "        \n",
    "    if interpolator is None:\n",
    "        interpolator = StraightInterpolator(mesh)\n",
    "        \n",
    "    err = getRelativeErr(func(points), interpolator.apply(points, func(mesh.nodes)))\n",
    "    plt.plot(err)"
   ]
  },
  {
   "cell_type": "code",
   "execution_count": null,
   "id": "61473fa4",
   "metadata": {},
   "outputs": [],
   "source": [
    "line1 = np.linspace([-0.99, -0.99], [0.99, 0.00], 100)\n",
    "line2 = np.linspace([-0.99, -0.99], [0.00, 0.99], 100)\n",
    "\n",
    "\n",
    "plt.figure(figsize=(15, 12))\n",
    "plt.suptitle(\"Interpolation test along lines on different meshes\", fontsize=16, y=0.92)\n",
    "\n",
    "mesh = meshFrom(name=\"doc/meshes/test_1.k\")\n",
    "\n",
    "plt.subplot(321)\n",
    "plt.title('mesh (1)', loc='left')\n",
    "interpolListTest(trigonTestFunc1, line1, mesh)\n",
    "\n",
    "plt.subplot(322)\n",
    "interpolListTest(trigonTestFunc1, line2, mesh)\n",
    "\n",
    "\n",
    "mesh = meshFrom(name=\"doc/meshes/test_3.k\")\n",
    "\n",
    "plt.subplot(323)\n",
    "plt.title('mesh (3)', loc='left')\n",
    "interpolListTest(trigonTestFunc1, line1, mesh)\n",
    "\n",
    "plt.subplot(324)\n",
    "interpolListTest(trigonTestFunc1, line2, mesh)\n",
    "\n",
    "\n",
    "mesh = meshFrom(name=\"doc/meshes/test_5.k\")\n",
    "\n",
    "plt.subplot(325)\n",
    "plt.title('mesh (5)', loc='left')\n",
    "interpolListTest(trigonTestFunc1, line1, mesh)\n",
    "\n",
    "plt.subplot(326)\n",
    "interpolListTest(trigonTestFunc1, line2, mesh)"
   ]
  },
  {
   "cell_type": "markdown",
   "id": "bf68cb29",
   "metadata": {},
   "source": [
    "# 3. Численное решение уравнений линейной упругости"
   ]
  },
  {
   "cell_type": "code",
   "execution_count": null,
   "id": "b6584df3",
   "metadata": {},
   "outputs": [],
   "source": [
    "import numpy as np\n",
    "import scipy.sparse.linalg as sp\n",
    "import matplotlib.pyplot as plt\n",
    "\n",
    "import FEM as fm\n",
    "from FEM.mesh import MeshClass, meshFrom\n",
    "from FEM.interpolation import CentersInterpolator, StraightInterpolator\n",
    "\n",
    "from visualization import visualizeCellsValues, visualizeNodesValues\n",
    "\n",
    "import kirschProblem.solution as krch"
   ]
  },
  {
   "cell_type": "code",
   "execution_count": null,
   "id": "070c4d6b",
   "metadata": {},
   "outputs": [],
   "source": [
    "def getErr(a, b):\n",
    "    \"\"\"\n",
    "    Абсолютная погрешность\n",
    "    \"\"\"\n",
    "    \n",
    "    return np.abs(a - b)\n",
    "\n",
    "def getRelativeErr(a, b, eps=1e-100, limit=1.0):\n",
    "    \"\"\"\n",
    "    Относительная погрешность\n",
    "    \"\"\"\n",
    "    \n",
    "    return np.minimum(2*np.abs(a - b)/(np.abs(a) + np.abs(b) + eps), limit)"
   ]
  },
  {
   "cell_type": "code",
   "execution_count": null,
   "id": "9ca0f14a",
   "metadata": {},
   "outputs": [],
   "source": [
    "# Свойства материала:\n",
    "E = 2e7\n",
    "mu = 0.25\n",
    "G = E/(2*(1 + mu))\n",
    "D = fm.getD(E, mu)\n",
    "\n",
    "# Геометрия объекта:\n",
    "l, h, t, r = 9, 3, 1, 0.5\n",
    "bar_shrink = 0.9\n",
    "\n",
    "# Напряжения на границе:\n",
    "p = 120000\n",
    "p /= (4*h*t)\n",
    "\n",
    "\n",
    "mesh = meshFrom(name=\"doc/meshes/kirsch/s1.k\")\n",
    "mesh.computeCenters()\n",
    "\n",
    "plt.figure(figsize=(16, 5))\n",
    "\n",
    "plt.gca().set_aspect('equal')\n",
    "plt.title('mesh visualization')\n",
    "\n",
    "mesh.visualize(color='b', lw=0.8)"
   ]
  },
  {
   "cell_type": "markdown",
   "id": "dccad425",
   "metadata": {},
   "source": [
    "### Вычисляем точное решение (задача Кирша):"
   ]
  },
  {
   "cell_type": "code",
   "execution_count": null,
   "id": "9a08636c",
   "metadata": {},
   "outputs": [],
   "source": [
    "krchU = np.array([krch.getKrchU(point, r, p, mu, G) for point in mesh.nodes])\n",
    "krchStress = np.array([krch.getKrchStressT(point, r, p) for point in mesh.nodes])"
   ]
  },
  {
   "cell_type": "code",
   "execution_count": null,
   "id": "82829c05",
   "metadata": {},
   "outputs": [],
   "source": [
    "krchUCenters = np.array([krch.getKrchU(point, r, p, mu, G) for point in mesh.centers])\n",
    "krchStressCenters = np.array([krch.getKrchStressT(point, r, p) for point in mesh.centers])"
   ]
  },
  {
   "cell_type": "code",
   "execution_count": null,
   "id": "f7bcfab0",
   "metadata": {},
   "outputs": [],
   "source": [
    "krchInterpolStrainCenters = fm.getCellsStrain(mesh, krchU)\n",
    "krchInterpolStressCenters = krchInterpolStrainCenters@D"
   ]
  },
  {
   "cell_type": "code",
   "execution_count": null,
   "id": "4f6d21da",
   "metadata": {},
   "outputs": [],
   "source": [
    "plt.figure(figsize=(16, 16))\n",
    "\n",
    "plt.subplot(311)\n",
    "plt.title('Sxx')\n",
    "visualizeCellsValues(mesh, krchStressCenters[:, 0], \n",
    "                     contour=True, bar_shrink=bar_shrink)\n",
    "\n",
    "plt.subplot(312)\n",
    "plt.title('Syy')\n",
    "visualizeCellsValues(mesh, krchStressCenters[:, 1], \n",
    "                     contour=True, bar_shrink=bar_shrink)\n",
    "\n",
    "plt.subplot(313)\n",
    "plt.title('Sxy')\n",
    "visualizeCellsValues(mesh, krchStressCenters[:, 2], \n",
    "                     contour=True, bar_shrink=bar_shrink)"
   ]
  },
  {
   "cell_type": "code",
   "execution_count": null,
   "id": "1b7039ee",
   "metadata": {},
   "outputs": [],
   "source": [
    "plt.figure(figsize=(16, 16))\n",
    "plt.suptitle('krsh stress interpolation by exact U error              ', fontsize=24, y=0.92)\n",
    "\n",
    "plt.subplot(311)\n",
    "plt.title('Sxx')\n",
    "visualizeCellsValues(mesh, getRelativeErr(krchStressCenters[:, 0], krchInterpolStressCenters[:, 0], limit=1), \n",
    "                     contour=True, bar_shrink=bar_shrink)\n",
    "\n",
    "plt.subplot(312)\n",
    "plt.title('Syy')\n",
    "visualizeCellsValues(mesh, getRelativeErr(krchStressCenters[:, 1], krchInterpolStressCenters[:, 1], limit=1), \n",
    "                     contour=True, bar_shrink=bar_shrink)\n",
    "\n",
    "plt.subplot(313)\n",
    "plt.title('Sxy')\n",
    "visualizeCellsValues(mesh, getRelativeErr(krchStressCenters[:, 2], krchInterpolStressCenters[:, 2], limit=1), \n",
    "                     contour=True, bar_shrink=bar_shrink)"
   ]
  },
  {
   "cell_type": "markdown",
   "id": "cffd007f",
   "metadata": {},
   "source": [
    "### Составляем систему:"
   ]
  },
  {
   "cell_type": "code",
   "execution_count": null,
   "id": "c425a7c4",
   "metadata": {},
   "outputs": [],
   "source": [
    "K, F = fm.getK(mesh, D), fm.getF(mesh)\n",
    "#fm.setFNeiman(mesh, F, p, fm.vertBorder(-l))\n",
    "fm.setFNeiman(mesh, F, p, fm.vertBorder( l))\n",
    "fm.fixAxis(mesh, K, F, 0, fm.vertBorder(0.0))\n",
    "fm.fixAxis(mesh, K, F, 1, fm.horzBorder(0.0))"
   ]
  },
  {
   "cell_type": "code",
   "execution_count": null,
   "id": "2063b015",
   "metadata": {},
   "outputs": [],
   "source": [
    "plt.figure(figsize=(16, 5))\n",
    "\n",
    "plt.title(\"Border pressure visualization\")\n",
    "visualizeNodesValues(mesh, F[0::2] + F[1::2], levels=50, \n",
    "                     contour=True, bar_shrink=bar_shrink)"
   ]
  },
  {
   "cell_type": "code",
   "execution_count": null,
   "id": "5a80927e",
   "metadata": {},
   "outputs": [],
   "source": [
    "U = sp.cg(K, F)[0].reshape(-1, 2)"
   ]
  },
  {
   "cell_type": "code",
   "execution_count": null,
   "id": "8e619bc6",
   "metadata": {},
   "outputs": [],
   "source": [
    "# Перемещения на границе (должны быть нули)\n",
    "U[np.where(np.isclose(mesh.nodes[:, 0], 0.0))[0], 0], U[np.where(np.isclose(mesh.nodes[:, 1], 0.0))[0], 1]"
   ]
  },
  {
   "cell_type": "code",
   "execution_count": null,
   "id": "3335a548",
   "metadata": {},
   "outputs": [],
   "source": [
    "plt.figure(figsize=(16, 12))\n",
    "\n",
    "plt.gca().set_aspect('equal')\n",
    "plt.title('solution visualization')\n",
    "\n",
    "mesh.resetNodes()\n",
    "mesh.visualize(color=['#A7A7A7'], lw=0.8)\n",
    "\n",
    "mesh.shiftNodes(100*U)\n",
    "mesh.visualize(color=['b'], lw=1.0)"
   ]
  },
  {
   "cell_type": "markdown",
   "id": "bb107886",
   "metadata": {},
   "source": [
    "### Сравнение точных перемещений и численного решения:"
   ]
  },
  {
   "cell_type": "code",
   "execution_count": null,
   "id": "c01e3812",
   "metadata": {},
   "outputs": [],
   "source": [
    "plt.figure(figsize=(16, 5))\n",
    "\n",
    "plt.gca().set_aspect('equal')\n",
    "plt.title('comparison')\n",
    "\n",
    "mesh.resetNodes()\n",
    "mesh.visualize(color=['#A7A7A7'], lw=0.8)\n",
    "\n",
    "mesh.shiftNodes(100*krchU)\n",
    "mesh.visualize(color=['g'], lw=1.0)\n",
    "\n",
    "mesh.shiftNodes(100*U)\n",
    "mesh.visualize(color=['b'], lw=1.0)\n",
    "\n",
    "plt.legend([\"gray : initial mesh\", \"green : krsh mesh\", \"blue : solution mesh\"], loc=\"lower right\")"
   ]
  },
  {
   "cell_type": "code",
   "execution_count": null,
   "id": "9ea33058",
   "metadata": {},
   "outputs": [],
   "source": [
    "plt.figure(figsize=(16, 10))\n",
    "plt.suptitle('Error visualization                ', fontsize=24, y=0.94)\n",
    "\n",
    "plt.subplot(211)\n",
    "plt.title(\"Ux\")\n",
    "visualizeNodesValues(mesh, getRelativeErr(U[:, 0], krchU[:, 0]), levels=50, \n",
    "                     contour=True, bar_shrink=bar_shrink)\n",
    "\n",
    "plt.subplot(212)\n",
    "plt.title(\"Uy\")\n",
    "visualizeNodesValues(mesh, getRelativeErr(U[:, 1], krchU[:, 1]), levels=50, \n",
    "                     contour=True, bar_shrink=bar_shrink)"
   ]
  },
  {
   "cell_type": "markdown",
   "id": "cf98ef2b",
   "metadata": {},
   "source": [
    "### Визуализация решения:"
   ]
  },
  {
   "cell_type": "code",
   "execution_count": null,
   "id": "26daa5aa",
   "metadata": {},
   "outputs": [],
   "source": [
    "strain = fm.getCellsStrain(mesh, U)\n",
    "stress = strain@D\n",
    "print(stress[:, 0].max(), stress[:, 0].max()/(3*p))"
   ]
  },
  {
   "cell_type": "code",
   "execution_count": null,
   "id": "2d133b5a",
   "metadata": {},
   "outputs": [],
   "source": [
    "plt.figure(figsize=(16, 16))\n",
    "\n",
    "plt.subplot(311)\n",
    "plt.title('Exx')\n",
    "visualizeCellsValues(mesh, strain[:, 0], contour=True, bar_shrink=bar_shrink)\n",
    "\n",
    "plt.subplot(312)\n",
    "plt.title('Eyy')\n",
    "visualizeCellsValues(mesh, strain[:, 1], contour=True, bar_shrink=bar_shrink)\n",
    "\n",
    "plt.subplot(313)\n",
    "plt.title('Exy')\n",
    "visualizeCellsValues(mesh, strain[:, 2], contour=True, bar_shrink=bar_shrink)"
   ]
  },
  {
   "cell_type": "code",
   "execution_count": null,
   "id": "acbff827",
   "metadata": {},
   "outputs": [],
   "source": [
    "plt.figure(figsize=(16, 16))\n",
    "\n",
    "plt.subplot(311)\n",
    "plt.title('Sxx')\n",
    "visualizeCellsValues(mesh, stress[:, 0], contour=True, bar_shrink=bar_shrink)\n",
    "\n",
    "plt.subplot(312)\n",
    "plt.title('Syy')\n",
    "visualizeCellsValues(mesh, stress[:, 1], contour=True, bar_shrink=bar_shrink)\n",
    "\n",
    "plt.subplot(313)\n",
    "plt.title('Sxy')\n",
    "visualizeCellsValues(mesh, stress[:, 2], contour=True, bar_shrink=bar_shrink)"
   ]
  },
  {
   "cell_type": "markdown",
   "id": "a5265b6c",
   "metadata": {},
   "source": [
    "### Метод согласованных результантов:"
   ]
  },
  {
   "cell_type": "code",
   "execution_count": null,
   "id": "590d94b6",
   "metadata": {},
   "outputs": [],
   "source": [
    "plt.figure(figsize=(16, 16))\n",
    "\n",
    "plt.subplot(311)\n",
    "plt.title(\"CP Method error\")\n",
    "visualizeCellsValues(mesh, getRelativeErr(strain[:, 0], \n",
    "                                          CentersInterpolator(mesh).apply(fm.applyCP(mesh, strain[:, 0]))), \n",
    "                     contour=True, bar_shrink=bar_shrink)"
   ]
  },
  {
   "cell_type": "code",
   "execution_count": null,
   "id": "a1a848e5",
   "metadata": {},
   "outputs": [],
   "source": [
    "line1 = np.linspace([0.51, 0.01], [8.5, 0.01], num=100)\n",
    "line2 = np.linspace([0.01, 0.51], [0.01, 2.9], num=100)\n",
    "line3 = np.linspace([0.355, 0.355], [8.5, 2.8], num=100)\n",
    "\n",
    "plt.figure(figsize=(16, 6))\n",
    "plt.title(\"Sxx along y = 0\")\n",
    "plt.plot(StraightInterpolator(mesh).apply(line1, fm.applyCP(mesh, stress[:, 0])))\n",
    "\n",
    "plt.figure(figsize=(16, 6))\n",
    "plt.title(\"Sxx along x = 0\")\n",
    "plt.plot(StraightInterpolator(mesh).apply(line2, fm.applyCP(mesh, stress[:, 0])))"
   ]
  },
  {
   "cell_type": "markdown",
   "id": "cbd9df4c",
   "metadata": {},
   "source": [
    "# КОНЕЦ"
   ]
  }
 ],
 "metadata": {
  "kernelspec": {
   "display_name": "Python 3",
   "language": "python",
   "name": "python3"
  },
  "language_info": {
   "codemirror_mode": {
    "name": "ipython",
    "version": 3
   },
   "file_extension": ".py",
   "mimetype": "text/x-python",
   "name": "python",
   "nbconvert_exporter": "python",
   "pygments_lexer": "ipython3",
   "version": "3.7.10"
  }
 },
 "nbformat": 4,
 "nbformat_minor": 5
}
